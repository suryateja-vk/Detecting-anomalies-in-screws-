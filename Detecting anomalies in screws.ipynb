{
 "cells": [
  {
   "cell_type": "markdown",
   "metadata": {
    "id": "OoRchY_gElZh"
   },
   "source": [
    "importing all the necessary libraries "
   ]
  },
  {
   "cell_type": "code",
   "execution_count": null,
   "metadata": {
    "execution": {
     "iopub.execute_input": "2021-06-05T21:15:44.851699Z",
     "iopub.status.busy": "2021-06-05T21:15:44.851378Z",
     "iopub.status.idle": "2021-06-05T21:15:44.857400Z",
     "shell.execute_reply": "2021-06-05T21:15:44.856248Z",
     "shell.execute_reply.started": "2021-06-05T21:15:44.851669Z"
    },
    "id": "hB6ZNP2LElZi"
   },
   "outputs": [],
   "source": [
    "import cv2 as cv\n",
    "import os \n",
    "import numpy as np\n",
    "import matplotlib.pyplot as plt\n",
    "from tensorflow.keras.preprocessing import image\n",
    "import random\n",
    "import tensorflow as tf\n",
    "from keras.utils import np_utils\n",
    "from tensorflow.keras.models import Sequential\n",
    "from tensorflow.keras.layers import Dense, Dropout , Activation, Flatten,Conv2D,MaxPooling2D\n",
    "from tensorflow.keras.preprocessing.image import ImageDataGenerator\n",
    "from tensorflow.keras import optimizers\n",
    "from tensorflow.keras import applications\n"
   ]
  },
  {
   "cell_type": "markdown",
   "metadata": {
    "id": "7hoNOS_XElZi"
   },
   "source": [
    "getting the data from the input folder using list dir and\n",
    "using cv to convert the image to np array\n",
    "resizing the image,\n",
    "normalizing the image\n",
    "and appending to the list"
   ]
  },
  {
   "cell_type": "code",
   "execution_count": null,
   "metadata": {
    "execution": {
     "iopub.execute_input": "2021-06-05T21:15:45.841828Z",
     "iopub.status.busy": "2021-06-05T21:15:45.841510Z",
     "iopub.status.idle": "2021-06-05T21:15:51.298850Z",
     "shell.execute_reply": "2021-06-05T21:15:51.298015Z",
     "shell.execute_reply.started": "2021-06-05T21:15:45.841796Z"
    },
    "id": "HsYxLTm1ElZi"
   },
   "outputs": [],
   "source": [
    "X=[];y=[]\n",
    "for i in os.listdir('../input/screw-dataset/train'):\n",
    "  gray=cv.resize(cv.imread('../input/screw-dataset/train/{}'.format(i), cv.IMREAD_COLOR),(256,256), interpolation=cv.INTER_CUBIC)\n",
    "  gray=gray/255.0\n",
    "  X.append(gray)\n",
    "  if (i.find('ok') == -1):\n",
    "      y.append(0)\n",
    "  else :\n",
    "      y.append(1)\n"
   ]
  },
  {
   "cell_type": "markdown",
   "metadata": {
    "id": "lTj4OIxBElZj"
   },
   "source": [
    "as it is a skew dataset we need more data so we duplicate the given data "
   ]
  },
  {
   "cell_type": "code",
   "execution_count": null,
   "metadata": {
    "execution": {
     "iopub.execute_input": "2021-06-05T21:15:51.300549Z",
     "iopub.status.busy": "2021-06-05T21:15:51.300222Z",
     "iopub.status.idle": "2021-06-05T21:15:51.308756Z",
     "shell.execute_reply": "2021-06-05T21:15:51.307841Z",
     "shell.execute_reply.started": "2021-06-05T21:15:51.300513Z"
    },
    "id": "TLTXDTUoElZj"
   },
   "outputs": [],
   "source": [
    "a=250;b=50\n",
    "while (a!=b):\n",
    "    p=random.randint(0,len(X)-1)\n",
    "    if y[p]==0:\n",
    "        b=b+1;\n",
    "        X.append(X[p])\n",
    "        y.append(0)\n"
   ]
  },
  {
   "cell_type": "markdown",
   "metadata": {
    "id": "7v1olV4DElZk"
   },
   "source": [
    "reshaping the X array and coverting the y list to a categorical list"
   ]
  },
  {
   "cell_type": "code",
   "execution_count": null,
   "metadata": {
    "execution": {
     "iopub.execute_input": "2021-06-05T21:15:51.310752Z",
     "iopub.status.busy": "2021-06-05T21:15:51.310413Z",
     "iopub.status.idle": "2021-06-05T21:15:51.546369Z",
     "shell.execute_reply": "2021-06-05T21:15:51.545327Z",
     "shell.execute_reply.started": "2021-06-05T21:15:51.310707Z"
    },
    "id": "cPhUxEaJElZk",
    "outputId": "37257c96-5dc7-4039-8d48-17596b9fc0d1"
   },
   "outputs": [
    {
     "data": {
      "text/plain": [
       "(500, 256, 256, 3)"
      ]
     },
     "execution_count": 147,
     "metadata": {
      "tags": []
     },
     "output_type": "execute_result"
    }
   ],
   "source": [
    "X=np.array(X)\n",
    "X=np.reshape(X,[X.shape[0],256,256,3])\n",
    "y=np.array(y)\n",
    "y = np_utils.to_categorical(y, 2)\n",
    "X.shape"
   ]
  },
  {
   "cell_type": "markdown",
   "metadata": {
    "id": "nmBkV6LDElZl"
   },
   "source": [
    "spliting the data into train and validation sets"
   ]
  },
  {
   "cell_type": "code",
   "execution_count": null,
   "metadata": {
    "execution": {
     "iopub.execute_input": "2021-06-05T21:15:51.548238Z",
     "iopub.status.busy": "2021-06-05T21:15:51.547879Z",
     "iopub.status.idle": "2021-06-05T21:15:51.761293Z",
     "shell.execute_reply": "2021-06-05T21:15:51.760422Z",
     "shell.execute_reply.started": "2021-06-05T21:15:51.548200Z"
    },
    "id": "TASjFwA1ElZm"
   },
   "outputs": [],
   "source": [
    "from sklearn.model_selection import train_test_split\n",
    "X_train, X_val, y_train, y_val = train_test_split(X, y, test_size=0.20, random_state=0)"
   ]
  },
  {
   "cell_type": "markdown",
   "metadata": {
    "id": "qly-FXzOElZm"
   },
   "source": [
    "data augumentation"
   ]
  },
  {
   "cell_type": "code",
   "execution_count": null,
   "metadata": {
    "execution": {
     "iopub.execute_input": "2021-06-05T21:15:53.138217Z",
     "iopub.status.busy": "2021-06-05T21:15:53.137870Z",
     "iopub.status.idle": "2021-06-05T21:15:53.288345Z",
     "shell.execute_reply": "2021-06-05T21:15:53.287438Z",
     "shell.execute_reply.started": "2021-06-05T21:15:53.138186Z"
    },
    "id": "Hh46qP_yElZm"
   },
   "outputs": [],
   "source": [
    "\n",
    "train_datagen = ImageDataGenerator(rotation_range=360 )\n",
    "\n",
    "train_generator = train_datagen.flow(X, y, batch_size=32)\n"
   ]
  },
  {
   "cell_type": "markdown",
   "metadata": {
    "id": "xEUvqTw5ElZn"
   },
   "source": [
    "using the resnet50 model as a base model and then adding dense layers to the flattened model"
   ]
  },
  {
   "cell_type": "code",
   "execution_count": null,
   "metadata": {
    "execution": {
     "iopub.execute_input": "2021-06-05T21:16:04.726711Z",
     "iopub.status.busy": "2021-06-05T21:16:04.726275Z",
     "iopub.status.idle": "2021-06-05T21:16:06.398719Z",
     "shell.execute_reply": "2021-06-05T21:16:06.397847Z",
     "shell.execute_reply.started": "2021-06-05T21:16:04.726664Z"
    },
    "id": "D0VI-GzqElZn"
   },
   "outputs": [],
   "source": [
    "from tensorflow.keras.applications import ResNet50\n",
    "base_model = ResNet50(include_top=False,weights='imagenet',input_shape=(256,256,3),classes=y_train.shape[1])\n",
    "\n",
    "\n",
    "model=Sequential()\n",
    "\n",
    "model.add(base_model_resnet)\n",
    "model.add(Flatten())\n",
    "\n",
    "model.add(Dense(1024,activation=('relu'),input_dim=512))\n",
    "model.add(Dense(512,activation=('relu'))) \n",
    "model.add(Dropout(.4))\n",
    "model.add(Dense(256,activation=('relu'))) \n",
    "model.add(Dropout(.3))\n",
    "model.add(Dense(128,activation=('relu')))\n",
    "model.add(Dropout(.2))\n",
    "model.add(Dense(2,activation=('softmax')))"
   ]
  },
  {
   "cell_type": "markdown",
   "metadata": {
    "id": "P4P01oRgElZo"
   },
   "source": [
    "compiling the model using here we specify the optimizer as the adam optimizer and metric as accuracy and loss as categorical crossentropy"
   ]
  },
  {
   "cell_type": "code",
   "execution_count": null,
   "metadata": {
    "execution": {
     "iopub.execute_input": "2021-06-05T21:16:16.233372Z",
     "iopub.status.busy": "2021-06-05T21:16:16.233039Z",
     "iopub.status.idle": "2021-06-05T21:16:16.249306Z",
     "shell.execute_reply": "2021-06-05T21:16:16.248281Z",
     "shell.execute_reply.started": "2021-06-05T21:16:16.233343Z"
    },
    "id": "PbX12HaWElZo"
   },
   "outputs": [],
   "source": [
    "model.compile(optimizer=optimizers.Adam(learning_rate=0.0001),loss='categorical_crossentropy',metrics=['accuracy'])"
   ]
  },
  {
   "cell_type": "markdown",
   "metadata": {
    "id": "ocRJGUPcElZo"
   },
   "source": [
    " train the model using the train data and the validation data is used as the validation data"
   ]
  },
  {
   "cell_type": "code",
   "execution_count": null,
   "metadata": {
    "execution": {
     "iopub.execute_input": "2021-06-05T21:16:23.635592Z",
     "iopub.status.busy": "2021-06-05T21:16:23.635256Z",
     "iopub.status.idle": "2021-06-05T21:16:36.494269Z",
     "shell.execute_reply": "2021-06-05T21:16:36.493385Z",
     "shell.execute_reply.started": "2021-06-05T21:16:23.635558Z"
    },
    "id": "yvwjvYTUElZp",
    "outputId": "22c07d25-ff5f-4f42-93af-9f254fc18f50"
   },
   "outputs": [
    {
     "name": "stdout",
     "output_type": "stream",
     "text": [
      "12/12 [==============================] - 12s 677ms/step - loss: 0.4263 - accuracy: 0.8091 - val_loss: 0.3527 - val_accuracy: 0.9300\n"
     ]
    }
   ],
   "source": [
    "\n",
    "history = model.fit_generator(train_generator,\n",
    "                              steps_per_epoch=len(X_train) // 32,\n",
    "                              epochs=250,\n",
    "                              validation_data=(X_val,y_val),\n",
    "                              validation_steps=len(X_val)//32)"
   ]
  },
  {
   "cell_type": "markdown",
   "metadata": {
    "id": "zgpXE__HElZp"
   },
   "source": [
    "test data is taken form the Directory and converted as np array and then resized and Normalised and appended to the test list"
   ]
  },
  {
   "cell_type": "code",
   "execution_count": null,
   "metadata": {
    "execution": {
     "iopub.execute_input": "2021-06-05T20:13:32.281924Z",
     "iopub.status.busy": "2021-06-05T20:13:32.281577Z",
     "iopub.status.idle": "2021-06-05T20:13:32.289089Z",
     "shell.execute_reply": "2021-06-05T20:13:32.288305Z",
     "shell.execute_reply.started": "2021-06-05T20:13:32.281894Z"
    },
    "id": "d15aGPGhElZq"
   },
   "outputs": [],
   "source": [
    "test=[];id=[]\n",
    "for i in os.listdir('../input/screw-dataset/test'):\n",
    "  id.append(i)\n",
    "id.sort(key=lambda item: (len(item), item))\n"
   ]
  },
  {
   "cell_type": "code",
   "execution_count": null,
   "metadata": {
    "execution": {
     "iopub.execute_input": "2021-06-05T20:13:45.187647Z",
     "iopub.status.busy": "2021-06-05T20:13:45.187327Z",
     "iopub.status.idle": "2021-06-05T20:13:48.594223Z",
     "shell.execute_reply": "2021-06-05T20:13:48.593337Z",
     "shell.execute_reply.started": "2021-06-05T20:13:45.187615Z"
    },
    "id": "AxhZuWlBElZq"
   },
   "outputs": [],
   "source": [
    "for i in id:\n",
    "  gray=cv.resize(cv.imread('../input/screw-dataset/test/{}'.format(i), cv.IMREAD_COLOR),(256,256), interpolation=cv.INTER_CUBIC)\n",
    "  gray=gray/255.0\n",
    "  test.append(gray)"
   ]
  },
  {
   "cell_type": "markdown",
   "metadata": {
    "id": "_AOM1uhCElZq"
   },
   "source": [
    "test list is converted into numpy array and reshaped"
   ]
  },
  {
   "cell_type": "code",
   "execution_count": null,
   "metadata": {
    "execution": {
     "iopub.execute_input": "2021-06-05T21:16:36.496355Z",
     "iopub.status.busy": "2021-06-05T21:16:36.495990Z",
     "iopub.status.idle": "2021-06-05T21:16:36.609097Z",
     "shell.execute_reply": "2021-06-05T21:16:36.608152Z",
     "shell.execute_reply.started": "2021-06-05T21:16:36.496315Z"
    },
    "id": "oUfj3okcElZq"
   },
   "outputs": [],
   "source": [
    "test=np.array(test)\n",
    "test=np.reshape(test,[test.shape[0],256,256,3])"
   ]
  },
  {
   "cell_type": "markdown",
   "metadata": {
    "id": "kfTL9XP-ElZr"
   },
   "source": [
    "we use the model to predict the values form the given input test data"
   ]
  },
  {
   "cell_type": "code",
   "execution_count": null,
   "metadata": {
    "execution": {
     "iopub.execute_input": "2021-06-05T21:16:40.815853Z",
     "iopub.status.busy": "2021-06-05T21:16:40.815511Z",
     "iopub.status.idle": "2021-06-05T21:16:42.164136Z",
     "shell.execute_reply": "2021-06-05T21:16:42.163282Z",
     "shell.execute_reply.started": "2021-06-05T21:16:40.815821Z"
    },
    "id": "D3S59MF3ElZr"
   },
   "outputs": [],
   "source": [
    "pred=model.predict(test)"
   ]
  },
  {
   "cell_type": "code",
   "execution_count": null,
   "metadata": {
    "execution": {
     "iopub.execute_input": "2021-06-05T20:16:19.183741Z",
     "iopub.status.busy": "2021-06-05T20:16:19.183429Z",
     "iopub.status.idle": "2021-06-05T20:16:19.194715Z",
     "shell.execute_reply": "2021-06-05T20:16:19.193877Z",
     "shell.execute_reply.started": "2021-06-05T20:16:19.183711Z"
    },
    "id": "SmImtD1DElZr"
   },
   "outputs": [],
   "source": [
    "k=[];c=0\n",
    "for i in range(test.shape[0]):\n",
    "    if pred[i][0]>pred[i][1]:\n",
    "        k.append(0)\n",
    "        c=c+1\n",
    "        \n",
    "    else:\n",
    "        k.append(1)"
   ]
  },
  {
   "cell_type": "code",
   "execution_count": null,
   "metadata": {
    "execution": {
     "iopub.execute_input": "2021-06-05T20:17:07.049942Z",
     "iopub.status.busy": "2021-06-05T20:17:07.049579Z",
     "iopub.status.idle": "2021-06-05T20:17:07.060212Z",
     "shell.execute_reply": "2021-06-05T20:17:07.059324Z",
     "shell.execute_reply.started": "2021-06-05T20:17:07.049889Z"
    },
    "id": "PQxzpcq1ElZs"
   },
   "outputs": [],
   "source": [
    "df = pd.DataFrame()\n",
    "df[\"id\"]=id\n",
    "df[\"predicted\"]=k\n",
    "df.to_csv(\"result-submision.csv\")"
   ]
  }
 ],
 "metadata": {
  "colab": {
   "collapsed_sections": [],
   "name": "mlsubmsiion.ipynb",
   "provenance": []
  },
  "kernelspec": {
   "display_name": "Python 3",
   "language": "python",
   "name": "python3"
  },
  "language_info": {
   "codemirror_mode": {
    "name": "ipython",
    "version": 3
   },
   "file_extension": ".py",
   "mimetype": "text/x-python",
   "name": "python",
   "nbconvert_exporter": "python",
   "pygments_lexer": "ipython3",
   "version": "3.7.4"
  }
 },
 "nbformat": 4,
 "nbformat_minor": 1
}
